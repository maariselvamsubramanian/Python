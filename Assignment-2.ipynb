{
 "cells": [
  {
   "cell_type": "code",
   "execution_count": null,
   "metadata": {},
   "outputs": [],
   "source": [
    "# Program for to compute 5/0 and use try/except to catch the exceptions.\n",
    "\n",
    "def exceptions():\n",
    "    try:\n",
    "        5/0\n",
    "    except Exception as e:\n",
    "        print(e)\n",
    "        \n",
    "exceptions()"
   ]
  },
  {
   "cell_type": "code",
   "execution_count": null,
   "metadata": {},
   "outputs": [],
   "source": [
    "subjects = ['Americans', 'Indians']\n",
    "verbs = ['play', 'watch']\n",
    "Objects = ['Baseball', 'Cricket']\n",
    "\n",
    "# Method - 1\n",
    "print(('Using for Loop').center(50, '*'))\n",
    "for subject in subjects:\n",
    "    for verb in verbs:\n",
    "        for games in Objects:\n",
    "            print(subject,verb,games)\n",
    "            \n",
    "            \n",
    "# Method - 2\n",
    "print(('Using Comprehesive List').center(50, '-'))\n",
    "[[[print(subject,verb,games) for subject in subjects] for verb in verbs] for games in Objects]\n",
    "\n"
   ]
  },
  {
   "cell_type": "code",
   "execution_count": null,
   "metadata": {},
   "outputs": [],
   "source": []
  }
 ],
 "metadata": {
  "kernelspec": {
   "display_name": "Python 3",
   "language": "python",
   "name": "python3"
  },
  "language_info": {
   "codemirror_mode": {
    "name": "ipython",
    "version": 3
   },
   "file_extension": ".py",
   "mimetype": "text/x-python",
   "name": "python",
   "nbconvert_exporter": "python",
   "pygments_lexer": "ipython3",
   "version": "3.7.6"
  }
 },
 "nbformat": 4,
 "nbformat_minor": 4
}
