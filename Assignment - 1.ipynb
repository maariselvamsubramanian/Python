{
 "cells": [
  {
   "cell_type": "code",
   "execution_count": 47,
   "metadata": {},
   "outputs": [
    {
     "name": "stdout",
     "output_type": "stream",
     "text": [
      "---------------For An Array Output---------------------\n",
      "[2002, 2009, 2016, 2023, 2037, 2044, 2051, 2058, 2072, 2079, 2086, 2093, 2107, 2114, 2121, 2128, 2142, 2149, 2156, 2163, 2177, 2184, 2191, 2198, 2212, 2219, 2226, 2233, 2247, 2254, 2261, 2268, 2282, 2289, 2296, 2303, 2317, 2324, 2331, 2338, 2352, 2359, 2366, 2373, 2387, 2394, 2401, 2408, 2422, 2429, 2436, 2443, 2457, 2464, 2471, 2478, 2492, 2499, 2506, 2513, 2527, 2534, 2541, 2548, 2562, 2569, 2576, 2583, 2597, 2604, 2611, 2618, 2632, 2639, 2646, 2653, 2667, 2674, 2681, 2688, 2702, 2709, 2716, 2723, 2737, 2744, 2751, 2758, 2772, 2779, 2786, 2793, 2807, 2814, 2821, 2828, 2842, 2849, 2856, 2863, 2877, 2884, 2891, 2898, 2912, 2919, 2926, 2933, 2947, 2954, 2961, 2968, 2982, 2989, 2996]\n",
      "---------------------For a Comma Separated Output---------------------\n",
      "2002,2009,2016,2023,2037,2044,2051,2058,2072,2079,2086,2093,2107,2114,2121,2128,2142,2149,2156,2163,2177,2184,2191,2198,2212,2219,2226,2233,2247,2254,2261,2268,2282,2289,2296,2303,2317,2324,2331,2338,2352,2359,2366,2373,2387,2394,2401,2408,2422,2429,2436,2443,2457,2464,2471,2478,2492,2499,2506,2513,2527,2534,2541,2548,2562,2569,2576,2583,2597,2604,2611,2618,2632,2639,2646,2653,2667,2674,2681,2688,2702,2709,2716,2723,2737,2744,2751,2758,2772,2779,2786,2793,2807,2814,2821,2828,2842,2849,2856,2863,2877,2884,2891,2898,2912,2919,2926,2933,2947,2954,2961,2968,2982,2989,2996\n"
     ]
    }
   ],
   "source": [
    "# Program for Divide by 7 and not by 5(Input between 2000 to 3000) \n",
    "\n",
    "# Declare the variable(startValue, endValue) and initialize the values to that variable\n",
    "startValue = 2000\n",
    "endValue = 3000\n",
    "matchedValue = []\n",
    "\n",
    "while startValue <= endValue:\n",
    "    if(startValue % 7 == 0  and startValue % 5 != 0):\n",
    "        matchedValue.append(startValue)\n",
    "    startValue +=1\n",
    "    \n",
    "if startValue>=endValue:\n",
    "    print('---------------For An Array Output---------------------')\n",
    "    print(str(matchedValue))\n",
    "    print('---------------------For a Comma Separated Output---------------------')\n",
    "    print(','.join([str(elem) for elem in matchedValue]))\n"
   ]
  },
  {
   "cell_type": "code",
   "execution_count": 48,
   "metadata": {},
   "outputs": [
    {
     "name": "stdout",
     "output_type": "stream",
     "text": [
      "Enter the first name: 2212\n",
      "Enter the last name: 121\n",
      "Reverse of Given name is : 2122  121\n"
     ]
    }
   ],
   "source": [
    "# Program for reverse the string:\n",
    "\n",
    "firstName = str(input(\"Enter the first name: \"))\n",
    "lastName = str(input(\"Enter the last name: \"))\n",
    "print(\"Reverse of Given name is : \" +firstName[::-1]+\"  \"+lastName[::-1])\n"
   ]
  },
  {
   "cell_type": "code",
   "execution_count": 49,
   "metadata": {},
   "outputs": [
    {
     "name": "stdout",
     "output_type": "stream",
     "text": [
      "904.7786842338603\n",
      "904.7786842338603\n"
     ]
    }
   ],
   "source": [
    "# Program for finding the volume of a sphere with diameter 12 cm.\n",
    "\n",
    "import math\n",
    "radius = 12/2\n",
    "\n",
    "# Method 1:\n",
    "print((4/3)*math.pi*(radius**3))\n",
    "\n",
    "# Method 2:\n",
    "print((4/3)*(3.141592653589793)*(radius**3))\n"
   ]
  },
  {
   "cell_type": "code",
   "execution_count": null,
   "metadata": {},
   "outputs": [],
   "source": []
  }
 ],
 "metadata": {
  "kernelspec": {
   "display_name": "Python 3",
   "language": "python",
   "name": "python3"
  },
  "language_info": {
   "codemirror_mode": {
    "name": "ipython",
    "version": 3
   },
   "file_extension": ".py",
   "mimetype": "text/x-python",
   "name": "python",
   "nbconvert_exporter": "python",
   "pygments_lexer": "ipython3",
   "version": "3.7.6"
  }
 },
 "nbformat": 4,
 "nbformat_minor": 4
}
